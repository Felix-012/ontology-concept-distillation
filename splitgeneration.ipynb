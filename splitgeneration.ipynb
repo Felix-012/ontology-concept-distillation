{
 "cells": [
  {
   "cell_type": "markdown",
   "metadata": {},
   "source": [
    "# Script to generate all splits"
   ]
  },
  {
   "cell_type": "code",
   "execution_count": 1,
   "metadata": {},
   "outputs": [
    {
     "data": {
      "text/plain": [
       "Atelectasis                    6439\n",
       "Cardiomegaly                   8255\n",
       "Consolidation                  1133\n",
       "Edema                          3490\n",
       "Enlarged Cardiomediastinum      983\n",
       "Fracture                       1416\n",
       "Lung Lesion                    1239\n",
       "Lung Opacity                  10563\n",
       "No Finding                    69677\n",
       "Pleural Effusion               5662\n",
       "Pneumonia                      2848\n",
       "Pneumothorax                   2697\n",
       "dtype: int64"
      ]
     },
     "execution_count": 1,
     "metadata": {},
     "output_type": "execute_result"
    }
   ],
   "source": [
    "import pandas as pd\n",
    "import numpy as np\n",
    "import matplotlib.pyplot as plt\n",
    "import seaborn as sns\n",
    "from pathlib import Path\n",
    "\n",
    "# Set up plotting style\n",
    "# Load preprocessed metadata\n",
    "metadata_df = pd.read_csv('../data/mimic/mimic_metadata_preprocessed.csv')\n",
    "# Get numerical columns (excluding subject_id, study_id etc)\n",
    "numerical_cols = ['Atelectasis', 'Cardiomegaly', 'Consolidation', 'Edema', \n",
    "                 'Enlarged Cardiomediastinum', 'Fracture', 'Lung Lesion',\n",
    "                 'Lung Opacity', 'No Finding', 'Pleural Effusion', 'Pleural Other',\n",
    "                 'Pneumonia', 'Pneumothorax', 'Support Devices']\n",
    "\n",
    "\n",
    "# Convert numerical values to boolean True/False\n",
    "# True for positive cases (1.0), False otherwise\n",
    "metadata_df[numerical_cols] = metadata_df[numerical_cols].apply(lambda x: x == 1.0)\n",
    "numerical_cols.remove(\"Support Devices\")\n",
    "label_cols = numerical_cols\n",
    "# removed all entries with more than one label\n",
    "metadata_df = metadata_df[metadata_df[label_cols].sum(axis=1) == 1]\n",
    "\n",
    "metadata_df = metadata_df[metadata_df[\"Pleural Other\"] == False]\n",
    "label_cols.remove(\"Pleural Other\")\n",
    "metadata_df[label_cols].sum()"
   ]
  },
  {
   "cell_type": "code",
   "execution_count": 2,
   "metadata": {},
   "outputs": [
    {
     "name": "stdout",
     "output_type": "stream",
     "text": [
      "Train set size: 101107\n",
      "Test set size: 2400\n",
      "\n",
      "Test set label distribution:\n",
      "Atelectasis                   200\n",
      "Cardiomegaly                  200\n",
      "Consolidation                 200\n",
      "Edema                         200\n",
      "Enlarged Cardiomediastinum    200\n",
      "Fracture                      200\n",
      "Lung Lesion                   200\n",
      "Lung Opacity                  200\n",
      "No Finding                    200\n",
      "Pleural Effusion              200\n",
      "Pneumonia                     200\n",
      "Pneumothorax                  200\n",
      "dtype: int64\n"
     ]
    }
   ],
   "source": [
    "# Create balanced test set with 283 images per class\n",
    "test_size = 200 \n",
    "\n",
    "# Initialize empty list to store test indices\n",
    "test_indices = []\n",
    "\n",
    "# For each label, randomly sample test_size images\n",
    "for label in label_cols:\n",
    "    # Get indices of positive cases for this label\n",
    "    label_indices = metadata_df[metadata_df[label]].index.tolist()\n",
    "    # Set random seed for reproducibility\n",
    "    np.random.seed(1)\n",
    "    # Randomly sample test_size indices\n",
    "    sampled_indices = np.random.choice(label_indices, size=test_size, replace=False)\n",
    "    \n",
    "    test_indices.extend(sampled_indices)\n",
    "\n",
    "# Convert to array and get unique indices (in case of any overlap)\n",
    "test_indices = np.unique(test_indices)\n",
    "\n",
    "# Create test dataframe\n",
    "test_df = metadata_df.loc[test_indices]\n",
    "\n",
    "# Create train dataframe by removing test subjects\n",
    "train_subjects = set(metadata_df['subject_id']) - set(test_df['subject_id'])\n",
    "train_df = metadata_df[metadata_df['subject_id'].isin(train_subjects)]\n",
    "\n",
    "print(f\"Train set size: {len(train_df)}\")\n",
    "print(f\"Test set size: {len(test_df)}\")\n",
    "print(\"\\nTest set label distribution:\")\n",
    "print(test_df[label_cols].sum())\n"
   ]
  },
  {
   "cell_type": "code",
   "execution_count": 3,
   "metadata": {},
   "outputs": [
    {
     "name": "stdout",
     "output_type": "stream",
     "text": [
      "Train set size: 85953\n",
      "retrieve set size: 3600\n",
      "\n",
      "Retrieve set label distribution:\n",
      "Atelectasis                   300\n",
      "Cardiomegaly                  300\n",
      "Consolidation                 300\n",
      "Edema                         300\n",
      "Enlarged Cardiomediastinum    300\n",
      "Fracture                      300\n",
      "Lung Lesion                   300\n",
      "Lung Opacity                  300\n",
      "No Finding                    300\n",
      "Pleural Effusion              300\n",
      "Pneumonia                     300\n",
      "Pneumothorax                  300\n",
      "dtype: int64\n"
     ]
    },
    {
     "data": {
      "text/plain": [
       "Atelectasis                    4437\n",
       "Cardiomegaly                   5778\n",
       "Consolidation                   306\n",
       "Edema                          1918\n",
       "Enlarged Cardiomediastinum      302\n",
       "Fracture                        692\n",
       "Lung Lesion                     432\n",
       "Lung Opacity                   7207\n",
       "No Finding                    58856\n",
       "Pleural Effusion               3407\n",
       "Pneumonia                      1756\n",
       "Pneumothorax                    862\n",
       "dtype: int64"
      ]
     },
     "execution_count": 3,
     "metadata": {},
     "output_type": "execute_result"
    }
   ],
   "source": [
    "# Create balanced test set with 283 images per class\n",
    "retrieve_size = 300 \n",
    "\n",
    "# Initialize empty list to store test indices\n",
    "retrieve_indices = []\n",
    "\n",
    "# For each label, randomly sample retrieve_size images\n",
    "for label in label_cols:\n",
    "    # Get indices of positive cases for this label\n",
    "    label_indices = train_df[train_df[label]].index.tolist()\n",
    "    # Set random seed for reproducibility\n",
    "    np.random.seed(1)\n",
    "    # Randomly sample retrieve_size indices\n",
    "    sampled_indices = np.random.choice(label_indices, size=retrieve_size, replace=False)\n",
    "    \n",
    "    retrieve_indices.extend(sampled_indices)\n",
    "\n",
    "# Convert to array and get unique indices (in case of any overlap)\n",
    "retrieve_indices = np.unique(retrieve_indices)\n",
    "\n",
    "# Create retrieve dataframe\n",
    "retrieve_df = train_df.loc[retrieve_indices]\n",
    "\n",
    "# Create train dataframe by removing retrieve subjects\n",
    "retrieve_subjects = set(train_df['subject_id']) - set(retrieve_df['subject_id']) - set(test_df[\"subject_id\"])\n",
    "train_df = train_df[train_df['subject_id'].isin(retrieve_subjects)]\n",
    "\n",
    "print(f\"Train set size: {len(train_df)}\")\n",
    "print(f\"retrieve set size: {len(retrieve_df)}\")\n",
    "print(\"\\nRetrieve set label distribution:\")\n",
    "print(retrieve_df[label_cols].sum())\n",
    "train_df[label_cols].sum()"
   ]
  },
  {
   "cell_type": "code",
   "execution_count": 4,
   "metadata": {},
   "outputs": [],
   "source": [
    "def assert_empty_intersect(set_a, set_b): \n",
    "    assert len(set_a.intersection(set_b) ) == 0\n",
    "\n",
    "assert_empty_intersect(set(test_df[\"subject_id\"]),  set(train_df[\"subject_id\"]))\n",
    "assert_empty_intersect(set(test_df[\"subject_id\"]),  set(retrieve_df[\"subject_id\"]))\n",
    "assert_empty_intersect(set(train_df[\"subject_id\"]), set(retrieve_df[\"subject_id\"]))"
   ]
  },
  {
   "cell_type": "code",
   "execution_count": 5,
   "metadata": {},
   "outputs": [
    {
     "data": {
      "text/plain": [
       "Atelectasis                   300\n",
       "Cardiomegaly                  300\n",
       "Consolidation                 300\n",
       "Edema                         300\n",
       "Enlarged Cardiomediastinum    300\n",
       "Fracture                      300\n",
       "Lung Lesion                   300\n",
       "Lung Opacity                  300\n",
       "No Finding                    300\n",
       "Pleural Effusion              300\n",
       "Pneumonia                     300\n",
       "Pneumothorax                  300\n",
       "dtype: int64"
      ]
     },
     "execution_count": 5,
     "metadata": {},
     "output_type": "execute_result"
    }
   ],
   "source": [
    "# Create balanced test set with 283 images per class\n",
    "balanced_train_size = 300 \n",
    "\n",
    "# Initialize empty list to store test indices\n",
    "retrieve_indices = []\n",
    "\n",
    "# For each label, randomly sample balanced_train_size images\n",
    "for label in label_cols:\n",
    "    # Get indices of positive cases for this label\n",
    "    label_indices = train_df[train_df[label]].index.tolist()\n",
    "    # Set random seed for reproducibility\n",
    "    np.random.seed(1)\n",
    "    # Randomly sample balanced_train_size indices\n",
    "    sampled_indices = np.random.choice(label_indices, size=balanced_train_size, replace=False)\n",
    "    \n",
    "    retrieve_indices.extend(sampled_indices)\n",
    "\n",
    "# Convert to array and get unique indices (in case of any overlap)\n",
    "retrieve_indices = np.unique(retrieve_indices)\n",
    "\n",
    "# Create retrieve dataframe\n",
    "train_balanced_df = train_df.loc[retrieve_indices]\n",
    "\n",
    "train_balanced_df[label_cols].sum()"
   ]
  },
  {
   "cell_type": "code",
   "execution_count": 9,
   "metadata": {},
   "outputs": [
    {
     "data": {
      "text/plain": [
       "Atelectasis                    4437\n",
       "Cardiomegaly                   5778\n",
       "Consolidation                   306\n",
       "Edema                          1918\n",
       "Enlarged Cardiomediastinum      302\n",
       "Fracture                        692\n",
       "Lung Lesion                     432\n",
       "Lung Opacity                   7207\n",
       "No Finding                    58856\n",
       "Pleural Effusion               3407\n",
       "Pneumonia                      1756\n",
       "Pneumothorax                    862\n",
       "dtype: int64"
      ]
     },
     "execution_count": 9,
     "metadata": {},
     "output_type": "execute_result"
    }
   ],
   "source": [
    "train_df[label_cols].sum()"
   ]
  },
  {
   "cell_type": "code",
   "execution_count": 7,
   "metadata": {},
   "outputs": [
    {
     "name": "stdout",
     "output_type": "stream",
     "text": [
      "Exported train, retrieve and test sets to CSV files\n"
     ]
    }
   ],
   "source": [
    "# Export dataframes to CSV files\n",
    "train_balanced_df.to_csv('../data/mimic/longtail_balanced_train.csv', index=False)\n",
    "train_df.to_csv('../data/mimic/longtail_train.csv', index=False)\n",
    "retrieve_df.to_csv('../data/mimic/longtail_balanced_retrieve.csv', index=False) \n",
    "test_df.to_csv('../data/mimic/longtail_balanced_test.csv', index=False)"
   ]
  }
 ],
 "metadata": {
  "kernelspec": {
   "display_name": "longtail",
   "language": "python",
   "name": "python3"
  },
  "language_info": {
   "codemirror_mode": {
    "name": "ipython",
    "version": 3
   },
   "file_extension": ".py",
   "mimetype": "text/x-python",
   "name": "python",
   "nbconvert_exporter": "python",
   "pygments_lexer": "ipython3",
   "version": "3.12.10"
  }
 },
 "nbformat": 4,
 "nbformat_minor": 2
}
