{
 "cells": [
  {
   "cell_type": "markdown",
   "metadata": {},
   "source": [
    "# Script to generate all splits"
   ]
  },
  {
   "cell_type": "code",
   "execution_count": 47,
   "metadata": {},
   "outputs": [
    {
     "data": {
      "text/plain": [
       "Atelectasis         10029\n",
       "Cardiomegaly        10614\n",
       "Consolidation        1689\n",
       "Edema                4966\n",
       "No Finding          69677\n",
       "Pleural Effusion     9301\n",
       "Pneumonia            5385\n",
       "Pneumothorax         3412\n",
       "dtype: int64"
      ]
     },
     "execution_count": 47,
     "metadata": {},
     "output_type": "execute_result"
    }
   ],
   "source": [
    "import os\n",
    "import pandas as pd\n",
    "import numpy as np\n",
    "import matplotlib.pyplot as plt\n",
    "import seaborn as sns\n",
    "from pathlib import Path\n",
    "\n",
    "\n",
    "\n",
    "BASEDIR_MIMIC = \"../data/mimic/\"\n",
    "# Set up plotting style\n",
    "# Load preprocessed metadata\n",
    "metadata_df = pd.read_csv(os.path.join(BASEDIR_MIMIC,'mimic_metadata_preprocessed.csv'))\n",
    "# Get numerical columns (excluding subject_id, study_id etc)\n",
    "numerical_cols = ['Atelectasis', 'Cardiomegaly', 'Consolidation', 'Edema', \n",
    "                 'No Finding', 'Pleural Effusion',\n",
    "                 'Pneumonia', 'Pneumothorax']\n",
    "\n",
    "\n",
    "\n",
    "#columns_of_interest = [\"No Finding\", \"Atelectasis\", \"Cardiomegaly\", \"Consolidation\", \"Edema\", \"Pleural Effusion\", \"Pneumonia\", \"Pneumothorax\"] #\"No Finding\" is first column\n",
    "\n",
    "            \n",
    "\n",
    "\n",
    "# Convert numerical values to boolean True/False\n",
    "# True for positive cases (1.0), False otherwise\n",
    "metadata_df[numerical_cols] = metadata_df[numerical_cols].apply(lambda x: x == 1.0)\n",
    "label_cols = numerical_cols\n",
    "# removed all entries with more than one label\n",
    "metadata_df = metadata_df[metadata_df[label_cols].sum(axis=1) == 1]\n",
    "\n",
    "#metadata_df = metadata_df[metadata_df[\"Pleural Other\"] == False]\n",
    "metadata_df[label_cols].sum()"
   ]
  },
  {
   "cell_type": "code",
   "metadata": {},
   "source": [
    "test_df = pd.read_csv(os.path.join(BASEDIR_MIMIC,'mimic-cxr-2.1.0-test-set-labeled.csv'))\n",
    "test_df\n"
   ],
   "outputs": [],
   "execution_count": null
  },
  {
   "cell_type": "code",
   "execution_count": 49,
   "metadata": {},
   "outputs": [
    {
     "data": {
      "text/plain": [
       "296"
      ]
     },
     "execution_count": 49,
     "metadata": {},
     "output_type": "execute_result"
    }
   ],
   "source": [
    "meta_all = pd.read_csv(os.path.join(BASEDIR_MIMIC,'mimic-cxr-2.0.0-chexpert.csv'))\n",
    "test_subject_ids = set(meta_all[meta_all[\"study_id\"].isin(test_df[\"study_id\"])][\"subject_id\"])\n",
    "len(test_subject_ids)"
   ]
  },
  {
   "cell_type": "code",
   "execution_count": 50,
   "metadata": {},
   "outputs": [
    {
     "name": "stdout",
     "output_type": "stream",
     "text": [
      "115073\n"
     ]
    },
    {
     "data": {
      "text/plain": [
       "113891"
      ]
     },
     "execution_count": 50,
     "metadata": {},
     "output_type": "execute_result"
    }
   ],
   "source": [
    "print(len(metadata_df))\n",
    "metadata_df = metadata_df[~metadata_df[\"subject_id\"].isin(test_subject_ids)]\n",
    "len(metadata_df)"
   ]
  },
  {
   "cell_type": "code",
   "execution_count": 51,
   "metadata": {},
   "outputs": [
    {
     "name": "stdout",
     "output_type": "stream",
     "text": [
      "Train set size: 104124\n",
      "Test set size: 1584\n",
      "\n",
      "Test set label distribution:\n",
      "Atelectasis         198\n",
      "Cardiomegaly        198\n",
      "Consolidation       198\n",
      "Edema               198\n",
      "No Finding          198\n",
      "Pleural Effusion    198\n",
      "Pneumonia           198\n",
      "Pneumothorax        198\n",
      "dtype: int64\n"
     ]
    }
   ],
   "source": [
    "# Create balanced test set with 283 images per class\n",
    "test_size = 198\n",
    "\n",
    "# Initialize empty list to store test indices\n",
    "test_indices = []\n",
    "\n",
    "# For each label, randomly sample test_size images\n",
    "for label in label_cols:\n",
    "    # Get indices of positive cases for this label\n",
    "    label_indices = metadata_df[metadata_df[label]].index.tolist()\n",
    "    # Set random seed for reproducibility\n",
    "    np.random.seed(1)\n",
    "    # Randomly sample test_size indices\n",
    "    sampled_indices = np.random.choice(label_indices, size=test_size, replace=False)\n",
    "    \n",
    "    test_indices.extend(sampled_indices)\n",
    "\n",
    "# Convert to array and get unique indices (in case of any overlap)\n",
    "test_indices = np.unique(test_indices)\n",
    "\n",
    "# Create test dataframe\n",
    "test_df = metadata_df.loc[test_indices]\n",
    "\n",
    "# Create train dataframe by removing test subjects\n",
    "train_subjects = set(metadata_df['subject_id']) - set(test_df['subject_id'])\n",
    "train_df = metadata_df[metadata_df['subject_id'].isin(train_subjects)]\n",
    "\n",
    "print(f\"Train set size: {len(train_df)}\")\n",
    "print(f\"Test set size: {len(test_df)}\")\n",
    "print(\"\\nTest set label distribution:\")\n",
    "print(test_df[label_cols].sum())\n"
   ]
  },
  {
   "cell_type": "code",
   "execution_count": 52,
   "metadata": {},
   "outputs": [
    {
     "name": "stdout",
     "output_type": "stream",
     "text": [
      "Train set size: 92365\n",
      "retrieve set size: 2400\n",
      "\n",
      "Retrieve set label distribution:\n",
      "Atelectasis         300\n",
      "Cardiomegaly        300\n",
      "Consolidation       300\n",
      "Edema               300\n",
      "No Finding          300\n",
      "Pleural Effusion    300\n",
      "Pneumonia           300\n",
      "Pneumothorax        300\n",
      "dtype: int64\n"
     ]
    },
    {
     "data": {
      "text/plain": [
       "Atelectasis          7678\n",
       "Cardiomegaly         7850\n",
       "Consolidation         708\n",
       "Edema                3165\n",
       "No Finding          61386\n",
       "Pleural Effusion     6362\n",
       "Pneumonia            3761\n",
       "Pneumothorax         1455\n",
       "dtype: int64"
      ]
     },
     "execution_count": 52,
     "metadata": {},
     "output_type": "execute_result"
    }
   ],
   "source": [
    "# Create balanced test set with 283 images per class\n",
    "retrieve_size = 300 \n",
    "\n",
    "# Initialize empty list to store test indices\n",
    "retrieve_indices = []\n",
    "\n",
    "# For each label, randomly sample retrieve_size images\n",
    "for label in label_cols:\n",
    "    # Get indices of positive cases for this label\n",
    "    label_indices = train_df[train_df[label]].index.tolist()\n",
    "    # Set random seed for reproducibility\n",
    "    np.random.seed(1)\n",
    "    # Randomly sample retrieve_size indices\n",
    "    sampled_indices = np.random.choice(label_indices, size=retrieve_size, replace=False)\n",
    "    \n",
    "    retrieve_indices.extend(sampled_indices)\n",
    "\n",
    "# Convert to array and get unique indices (in case of any overlap)\n",
    "retrieve_indices = np.unique(retrieve_indices)\n",
    "\n",
    "# Create retrieve dataframe\n",
    "retrieve_df = train_df.loc[retrieve_indices]\n",
    "\n",
    "# Create train dataframe by removing retrieve subjects\n",
    "retrieve_subjects = set(train_df['subject_id']) - set(retrieve_df['subject_id']) - set(test_df[\"subject_id\"])\n",
    "train_df = train_df[train_df['subject_id'].isin(retrieve_subjects)]\n",
    "\n",
    "print(f\"Train set size: {len(train_df)}\")\n",
    "print(f\"retrieve set size: {len(retrieve_df)}\")\n",
    "print(\"\\nRetrieve set label distribution:\")\n",
    "print(retrieve_df[label_cols].sum())\n",
    "train_df[label_cols].sum()"
   ]
  },
  {
   "cell_type": "code",
   "execution_count": 53,
   "metadata": {},
   "outputs": [],
   "source": [
    "def assert_empty_intersect(set_a, set_b): \n",
    "    assert len(set_a.intersection(set_b) ) == 0\n",
    "\n",
    "assert_empty_intersect(set(test_df[\"subject_id\"]),  set(train_df[\"subject_id\"]))\n",
    "assert_empty_intersect(set(test_df[\"subject_id\"]),  set(retrieve_df[\"subject_id\"]))\n",
    "assert_empty_intersect(set(train_df[\"subject_id\"]), set(retrieve_df[\"subject_id\"]))"
   ]
  },
  {
   "cell_type": "code",
   "execution_count": 54,
   "metadata": {},
   "outputs": [
    {
     "data": {
      "text/plain": [
       "Atelectasis         700\n",
       "Cardiomegaly        700\n",
       "Consolidation       700\n",
       "Edema               700\n",
       "No Finding          700\n",
       "Pleural Effusion    700\n",
       "Pneumonia           700\n",
       "Pneumothorax        700\n",
       "dtype: int64"
      ]
     },
     "execution_count": 54,
     "metadata": {},
     "output_type": "execute_result"
    }
   ],
   "source": [
    "# Create balanced test set with 283 images per class\n",
    "balanced_train_size = 700 \n",
    "\n",
    "# Initialize empty list to store test indices\n",
    "retrieve_indices = []\n",
    "\n",
    "# For each label, randomly sample balanced_train_size images\n",
    "for label in label_cols:\n",
    "    # Get indices of positive cases for this label\n",
    "    label_indices = train_df[train_df[label]].index.tolist()\n",
    "    # Set random seed for reproducibility\n",
    "    np.random.seed(1)\n",
    "    # Randomly sample balanced_train_size indices\n",
    "    sampled_indices = np.random.choice(label_indices, size=balanced_train_size, replace=False)\n",
    "    \n",
    "    retrieve_indices.extend(sampled_indices)\n",
    "\n",
    "# Convert to array and get unique indices (in case of any overlap)\n",
    "retrieve_indices = np.unique(retrieve_indices)\n",
    "\n",
    "# Create retrieve dataframe\n",
    "train_balanced_df = train_df.loc[retrieve_indices]\n",
    "\n",
    "train_balanced_df[label_cols].sum()"
   ]
  },
  {
   "cell_type": "code",
   "execution_count": 55,
   "metadata": {},
   "outputs": [
    {
     "data": {
      "text/plain": [
       "Atelectasis          7678\n",
       "Cardiomegaly         7850\n",
       "Consolidation         708\n",
       "Edema                3165\n",
       "No Finding          61386\n",
       "Pleural Effusion     6362\n",
       "Pneumonia            3761\n",
       "Pneumothorax         1455\n",
       "dtype: int64"
      ]
     },
     "execution_count": 55,
     "metadata": {},
     "output_type": "execute_result"
    }
   ],
   "source": [
    "train_df[label_cols].sum()"
   ]
  },
  {
   "cell_type": "code",
   "execution_count": 56,
   "metadata": {},
   "outputs": [],
   "source": [
    "train_balanced_df = pd.read_csv(os.path.join(BASEDIR_MIMIC, 'longtail_8_balanced_train.csv'))"
   ]
  },
  {
   "cell_type": "code",
   "execution_count": 57,
   "metadata": {},
   "outputs": [],
   "source": [
    "# Export dataframes to CSV files\n",
    "train_balanced_df.to_csv(os.path.join(BASEDIR_MIMIC, 'longtail_8_balanced_train.csv'), index=False)\n",
    "train_df.to_csv(os.path.join(BASEDIR_MIMIC, 'longtail_8_train.csv'), index=False)\n",
    "retrieve_df.to_csv(os.path.join(BASEDIR_MIMIC, 'longtail_8_balanced_retrieve.csv'), index=False)\n",
    "test_df.to_csv(os.path.join(BASEDIR_MIMIC,'longtail_8_balanced_test.csv'), index=False)"
   ]
  },
  {
   "cell_type": "code",
   "metadata": {},
   "source": [
    "# Create unbalanced train sets with only 10 samples for each disease\n",
    "diseases_to_undersample = [\"Pneumothorax\", \"Atelectasis\", \"Cardiomegaly\", \"Edema\", \"No Finding\", \"Pleural Effusion\", \"Pneumonia\", \"Consolidation\"]\n",
    "\n",
    "# Dictionary to store all unbalanced dataframes\n",
    "all_unbalanced_dfs = []\n",
    "\n",
    "for disease_to_undersample in diseases_to_undersample:\n",
    "    # Get indices of positive cases for this disease\n",
    "    disease_indices = train_balanced_df[train_balanced_df[disease_to_undersample] == True].index.tolist()\n",
    "    np.random.seed(5)\n",
    "\n",
    "    # Define indices for the 10 samples we want to keep\n",
    "    sample_indices_all = {\n",
    "        \"Consolidation\": [0,1,2,3,4,5,6,7,8,11],\n",
    "        \"Atelectasis\": [0,1,11,3,4,5,6,7,8,9],\n",
    "        \"Cardiomegaly\": [0,1,13,3,18,19,20,7,8,21],\n",
    "        \"Edema\": [0,1,2,3,4,5,10,7,8,11],\n",
    "        \"No Finding\": [0,1,2,3,4,5,6,7,8,9],\n",
    "        \"Pleural Effusion\": [0,1,2,3,4,5,11,7,8,9],\n",
    "        \"Pneumonia\": [0,1,2,3,4,5,6,10,8,9],\n",
    "        \"Pneumothorax\": [0,1,2,3,4,5,6,7,8,9]\n",
    "    }\n",
    "    sample_indices = sample_indices_all[disease_to_undersample]\n",
    "\n",
    "    # Get all samples for this disease\n",
    "    disease_samples = train_balanced_df.loc[disease_indices]\n",
    "\n",
    "    # Print labels for the 10 specific samples we're interested in\n",
    "    disease_labels = {i: disease_samples.iloc[i] for i in sample_indices}\n",
    "    #[print(f\"{disease_to_undersample} {i}- \" + disease_labels[i]) for i in sample_indices]\n",
    "\n",
    "    # Store in dictionary - keeping all positive samples\n",
    "    for d in disease_labels.values(): \n",
    "        all_unbalanced_dfs.append(d)\n",
    "\n",
    "    # Verify counts\n",
    "    #print(f\"\\nDisease counts for {disease_to_undersample}:\")\n",
    "    #print(disease_samples[label_cols].sum())\n",
    "    #print(\"\\n\")\n",
    "\n",
    "final_unbalanced_df = pd.DataFrame(all_unbalanced_dfs).reset_index(drop=True)\n",
    "final_unbalanced_df.to_csv(os.path.join(BASEDIR_MIMIC, 'longtail_unbalanced_all.csv'), index=False)\n",
    "final_unbalanced_df"
   ],
   "outputs": [],
   "execution_count": null
  },
  {
   "cell_type": "code",
   "execution_count": 142,
   "metadata": {},
   "outputs": [
    {
     "data": {
      "text/plain": [
       "'../data/mimic/longtail_8_unbalanced_all.csv'"
      ]
     },
     "execution_count": 142,
     "metadata": {},
     "output_type": "execute_result"
    }
   ],
   "source": [
    "os.path.join(BASEDIR_MIMIC, 'longtail_8_unbalanced_all.csv')"
   ]
  }
 ],
 "metadata": {
  "kernelspec": {
   "display_name": "longtail",
   "language": "python",
   "name": "python3"
  },
  "language_info": {
   "codemirror_mode": {
    "name": "ipython",
    "version": 3
   },
   "file_extension": ".py",
   "mimetype": "text/x-python",
   "name": "python",
   "nbconvert_exporter": "python",
   "pygments_lexer": "ipython3",
   "version": "3.12.10"
  }
 },
 "nbformat": 4,
 "nbformat_minor": 2
}
